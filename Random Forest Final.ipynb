{
 "cells": [
  {
   "cell_type": "markdown",
   "id": "cbbd020b",
   "metadata": {},
   "source": [
    "# Setup Training and Testing dataset (Section 1.B)#"
   ]
  },
  {
   "cell_type": "code",
   "execution_count": 14,
   "id": "19c53984",
   "metadata": {},
   "outputs": [],
   "source": [
    "from sklearn.model_selection import train_test_split as split\n",
    "from IPython.display import display_html\n",
    "from itertools import chain,cycle\n",
    "from sklearn.compose import ColumnTransformer\n",
    "from sklearn.preprocessing import StandardScaler, OneHotEncoder\n",
    "from sklearn.model_selection import train_test_split\n",
    "import numpy as np\n",
    "import pandas as pd\n",
    "import matplotlib as mpl\n",
    "import matplotlib.pyplot as plt\n",
    "import seaborn as sns\n",
    "import statsmodels.tools.tools as stattools\n",
    "from sklearn.ensemble import RandomForestClassifier\n",
    "from sklearn.tree import DecisionTreeClassifier\n",
    "from sklearn.metrics import confusion_matrix"
   ]
  },
  {
   "cell_type": "markdown",
   "id": "28844b7a",
   "metadata": {},
   "source": [
    "# With Humidity as Variable"
   ]
  },
  {
   "cell_type": "code",
   "execution_count": 15,
   "id": "86655cbb",
   "metadata": {},
   "outputs": [],
   "source": [
    "# Slice columns that will be used for modeling\n",
    "\n",
    "wfigs_train=pd.read_csv(\"df_Cleaned.csv\")\n",
    "df_All = wfigs_train\n",
    "\n",
    "df = df_All\n",
    "ColumnsToConsider = ['humidity','temp','conditions'] "
   ]
  },
  {
   "cell_type": "code",
   "execution_count": 16,
   "id": "ed2909ed",
   "metadata": {},
   "outputs": [],
   "source": [
    "\n",
    "def DisplayMultiply(*args,titles=cycle(['']),html_str = ''):   \n",
    "    for df,title in zip(args, chain(titles,cycle(['</br>'])) ):\n",
    "        html_str += '<th style=\"text-align:center\"><td style=\"vertical-align:top\">'\n",
    "        html_str += f\"<h6 style='text-align:center'>{title}</h6>\"      \n",
    "        html_str += df.to_html().replace('table','table style=\"display:inline\"')\n",
    "    display_html(html_str,raw=True)\n",
    "\n",
    "   \n"
   ]
  },
  {
   "cell_type": "code",
   "execution_count": 17,
   "id": "2ef3840d",
   "metadata": {},
   "outputs": [
    {
     "name": "stdout",
     "output_type": "stream",
     "text": [
      "(14982, 3)\n",
      "(6422, 3)\n",
      "(14982, 1)\n",
      "(6422, 1)\n"
     ]
    }
   ],
   "source": [
    "#splitting dataset#\n",
    "    \n",
    "# Convert Catigorical condition column to scaler depending on level.\n",
    "#conditions_dict = {\n",
    "#    'Clear'                  : 1, \n",
    "#    'Rain, Partially cloudy' : 2, \n",
    "#    'Partially cloudy'       : 3, \n",
    "#    'Overcast'               : 4, \n",
    "#    'Rain'                   : 5, \n",
    "#    'Rain, Overcast'         : 6, \n",
    "#    'Snow, Partially cloudy' : 7, \n",
    "#    'Snow, Overcast'         : 8, \n",
    "#    'Snow'                   : 9\n",
    "#    } \n",
    "#df[\"conditions\"].replace(conditions_dict, inplace=True)\n",
    "\n",
    "# Split data to Test and Train set\n",
    "Y = df[[\"FireOccured\"]]\n",
    "df = pd.DataFrame(df, columns=ColumnsToConsider)\n",
    "df.head()\n",
    "\n",
    "X_train, X_test, y_train, y_test = train_test_split(df, Y, test_size=0.30, random_state=1)\n",
    "\n",
    "print(X_train.shape)\n",
    "print(X_test.shape)\n",
    "print(y_train.shape)\n",
    "print(y_test.shape)\n",
    "#X_train, X_test, y_train, y_test = \\\n",
    "#split(df[[ColumnsToConsider], df.FireOccured, test_size=0.30, random_state=1)\n",
    "\n"
   ]
  },
  {
   "cell_type": "code",
   "execution_count": 18,
   "id": "ab8c01fb",
   "metadata": {},
   "outputs": [
    {
     "name": "stderr",
     "output_type": "stream",
     "text": [
      "<ipython-input-18-7d640d9b3a07>:3: SettingWithCopyWarning: \n",
      "A value is trying to be set on a copy of a slice from a DataFrame.\n",
      "Try using .loc[row_indexer,col_indexer] = value instead\n",
      "\n",
      "See the caveats in the documentation: https://pandas.pydata.org/pandas-docs/stable/user_guide/indexing.html#returning-a-view-versus-a-copy\n",
      "  X_train['temp'] = X_train['temp'].fillna(X_train['temp'].mean())\n"
     ]
    },
    {
     "name": "stdout",
     "output_type": "stream",
     "text": [
      "[[9062  962]\n",
      " [2224 2734]]\n"
     ]
    }
   ],
   "source": [
    "#training dataset#\n",
    "\n",
    "X_train['temp'] = X_train['temp'].fillna(X_train['temp'].mean())\n",
    "\n",
    "\n",
    "mar_dummy = pd.get_dummies(X_train['conditions'])\n",
    "\n",
    "X = pd.concat((X_train[['temp']], mar_dummy), axis = 1)\n",
    "\n",
    "\n",
    "\n",
    "y=y_train.astype('int')\n",
    "rfy = np.ravel(y)\n",
    "\n",
    "rf01 = RandomForestClassifier(n_estimators = 100).fit(X,rfy)\n",
    "predictions = rf01.predict(X)\n",
    "\n",
    "\n",
    "conf_mat = confusion_matrix(y, predictions)\n",
    "print(conf_mat)"
   ]
  },
  {
   "cell_type": "code",
   "execution_count": 25,
   "id": "67947894",
   "metadata": {},
   "outputs": [
    {
     "name": "stderr",
     "output_type": "stream",
     "text": [
      "<ipython-input-25-cc3c34c22b17>:3: SettingWithCopyWarning: \n",
      "A value is trying to be set on a copy of a slice from a DataFrame.\n",
      "Try using .loc[row_indexer,col_indexer] = value instead\n",
      "\n",
      "See the caveats in the documentation: https://pandas.pydata.org/pandas-docs/stable/user_guide/indexing.html#returning-a-view-versus-a-copy\n",
      "  X_test['temp'] = X_test['temp'].fillna(X_test['temp'].mean())\n"
     ]
    },
    {
     "name": "stdout",
     "output_type": "stream",
     "text": [
      "[[3876  379]\n",
      " [ 821 1346]]\n"
     ]
    }
   ],
   "source": [
    "#testing dataset#\n",
    "\n",
    "X_test['temp'] = X_test['temp'].fillna(X_test['temp'].mean())\n",
    "\n",
    "\n",
    "mar_dummy = pd.get_dummies(X_test['conditions'])\n",
    "\n",
    "X = pd.concat((X_test[['temp']], mar_dummy), axis = 1)\n",
    "\n",
    "\n",
    "\n",
    "y=y_test.astype('int')\n",
    "rfy = np.ravel(y)\n",
    "\n",
    "rf01 = RandomForestClassifier(n_estimators = 100).fit(X,rfy)\n",
    "predictions = rf01.predict(X)\n",
    "\n",
    "\n",
    "conf_mat = confusion_matrix(y, predictions)\n",
    "print(conf_mat)"
   ]
  },
  {
   "cell_type": "code",
   "execution_count": 20,
   "id": "c2b1ab99",
   "metadata": {},
   "outputs": [
    {
     "name": "stdout",
     "output_type": "stream",
     "text": [
      "0.6625661787605107 0.7414783607813098 0.778995960761685 0.8257624226914054 0.22100403923831505 0.7597742886636478 0.7711917509156869 0.7486899644377997\n"
     ]
    }
   ],
   "source": [
    "#evaluating dataset#\n",
    "\n",
    "TP =3872\n",
    "TN =383\n",
    "FP =1350\n",
    "FN =817\n",
    "precision =(TP)/(TP+FP)\n",
    "recall_score =(FP)/(FP+TN)\n",
    "sensitivity = TP/(TP+FN)\n",
    "specificity = TN/(TN+FP)\n",
    "f1_score=2*((precision*recall_score)/(precision+recall_score))\n",
    "f2_score=5*((precision*recall_score)/(4*precision+recall_score))\n",
    "f05_score=1.25*((precision*recall_score)/(0.25*precision+recall_score))\n",
    "accuracy_model  =(TP+TN)/(TP+TN+FP+FN)\n",
    "error_rate = 1-accuracy_model\n",
    "False_positive_rate =(FP)/(FP+TN)\n",
    "False_negative_rate =(FN)/(FN+TP)\n",
    "\n",
    "print(accuracy_model,precision,recall_score,sensitivity,specificity,f1_score,f2_score,f05_score)"
   ]
  }
 ],
 "metadata": {
  "kernelspec": {
   "display_name": "Python 3",
   "language": "python",
   "name": "python3"
  },
  "language_info": {
   "codemirror_mode": {
    "name": "ipython",
    "version": 3
   },
   "file_extension": ".py",
   "mimetype": "text/x-python",
   "name": "python",
   "nbconvert_exporter": "python",
   "pygments_lexer": "ipython3",
   "version": "3.8.8"
  }
 },
 "nbformat": 4,
 "nbformat_minor": 5
}

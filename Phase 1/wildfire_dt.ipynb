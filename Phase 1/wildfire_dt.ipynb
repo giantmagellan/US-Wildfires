{
 "cells": [
  {
   "cell_type": "code",
   "execution_count": 1,
   "metadata": {},
   "outputs": [
    {
     "name": "stderr",
     "output_type": "stream",
     "text": [
      "C:\\Users\\Rudy\\Anaconda3\\lib\\site-packages\\statsmodels\\tools\\_testing.py:19: FutureWarning: pandas.util.testing is deprecated. Use the functions in the public API at pandas.testing instead.\n",
      "  import pandas.util.testing as tm\n"
     ]
    }
   ],
   "source": [
    "''' Dependencies '''\n",
    "import pandas as pd\n",
    "import numpy as np\n",
    "import statsmodels.tools.tools as stattools\n",
    "from sklearn.tree import DecisionTreeClassifier, export_graphviz\n",
    "\n",
    "''' Suppress Warnings '''\n",
    "import warnings\n",
    "warnings.filterwarnings('ignore')"
   ]
  },
  {
   "cell_type": "code",
   "execution_count": 2,
   "metadata": {},
   "outputs": [
    {
     "data": {
      "text/html": [
       "<div>\n",
       "<style scoped>\n",
       "    .dataframe tbody tr th:only-of-type {\n",
       "        vertical-align: middle;\n",
       "    }\n",
       "\n",
       "    .dataframe tbody tr th {\n",
       "        vertical-align: top;\n",
       "    }\n",
       "\n",
       "    .dataframe thead th {\n",
       "        text-align: right;\n",
       "    }\n",
       "</style>\n",
       "<table border=\"1\" class=\"dataframe\">\n",
       "  <thead>\n",
       "    <tr style=\"text-align: right;\">\n",
       "      <th></th>\n",
       "      <th>OBJECTID</th>\n",
       "      <th>Date_Start</th>\n",
       "      <th>Date_Finish</th>\n",
       "      <th>Acres</th>\n",
       "      <th>FireCause</th>\n",
       "      <th>Lat</th>\n",
       "      <th>Long</th>\n",
       "      <th>DispatchCenterID</th>\n",
       "      <th>PredominantFuelGroup</th>\n",
       "      <th>State</th>\n",
       "      <th>...</th>\n",
       "      <th>tempmin</th>\n",
       "      <th>temp</th>\n",
       "      <th>humidity</th>\n",
       "      <th>precip</th>\n",
       "      <th>windspeed</th>\n",
       "      <th>pressure</th>\n",
       "      <th>visibility</th>\n",
       "      <th>solarradiation</th>\n",
       "      <th>conditions</th>\n",
       "      <th>FireOccured</th>\n",
       "    </tr>\n",
       "  </thead>\n",
       "  <tbody>\n",
       "    <tr>\n",
       "      <th>0</th>\n",
       "      <td>127.0</td>\n",
       "      <td>10/18/2020</td>\n",
       "      <td>3/10/2021</td>\n",
       "      <td>562.913504</td>\n",
       "      <td>Unknown</td>\n",
       "      <td>36.071140</td>\n",
       "      <td>-121.450500</td>\n",
       "      <td>CALPCC</td>\n",
       "      <td>Unknown</td>\n",
       "      <td>US-CA</td>\n",
       "      <td>...</td>\n",
       "      <td>49.9</td>\n",
       "      <td>58.8</td>\n",
       "      <td>67.29</td>\n",
       "      <td>0.00</td>\n",
       "      <td>12.7</td>\n",
       "      <td>1015.8</td>\n",
       "      <td>9.2</td>\n",
       "      <td>515.4</td>\n",
       "      <td>Clear</td>\n",
       "      <td>1</td>\n",
       "    </tr>\n",
       "    <tr>\n",
       "      <th>1</th>\n",
       "      <td>128.0</td>\n",
       "      <td>5/1/2020</td>\n",
       "      <td>5/15/2020</td>\n",
       "      <td>0.151680</td>\n",
       "      <td>Unknown</td>\n",
       "      <td>39.556690</td>\n",
       "      <td>-119.558500</td>\n",
       "      <td>NVSFC</td>\n",
       "      <td>Grass</td>\n",
       "      <td>US-NV</td>\n",
       "      <td>...</td>\n",
       "      <td>41.2</td>\n",
       "      <td>60.6</td>\n",
       "      <td>25.39</td>\n",
       "      <td>0.00</td>\n",
       "      <td>18.6</td>\n",
       "      <td>1015.5</td>\n",
       "      <td>9.9</td>\n",
       "      <td>510.1</td>\n",
       "      <td>Clear</td>\n",
       "      <td>1</td>\n",
       "    </tr>\n",
       "    <tr>\n",
       "      <th>2</th>\n",
       "      <td>129.0</td>\n",
       "      <td>8/8/2020</td>\n",
       "      <td>8/20/2020</td>\n",
       "      <td>0.300000</td>\n",
       "      <td>Human</td>\n",
       "      <td>33.293840</td>\n",
       "      <td>-110.450000</td>\n",
       "      <td>AZPHC</td>\n",
       "      <td>Grass-Shrub</td>\n",
       "      <td>US-AZ</td>\n",
       "      <td>...</td>\n",
       "      <td>NaN</td>\n",
       "      <td>NaN</td>\n",
       "      <td>NaN</td>\n",
       "      <td>NaN</td>\n",
       "      <td>NaN</td>\n",
       "      <td>NaN</td>\n",
       "      <td>NaN</td>\n",
       "      <td>NaN</td>\n",
       "      <td>NaN</td>\n",
       "      <td>1</td>\n",
       "    </tr>\n",
       "    <tr>\n",
       "      <th>3</th>\n",
       "      <td>130.0</td>\n",
       "      <td>5/8/2020</td>\n",
       "      <td>5/26/2020</td>\n",
       "      <td>44.300517</td>\n",
       "      <td>Human</td>\n",
       "      <td>35.875820</td>\n",
       "      <td>-115.204100</td>\n",
       "      <td>NVLIC</td>\n",
       "      <td>Grass-Shrub</td>\n",
       "      <td>US-NV</td>\n",
       "      <td>...</td>\n",
       "      <td>58.6</td>\n",
       "      <td>76.9</td>\n",
       "      <td>11.12</td>\n",
       "      <td>0.00</td>\n",
       "      <td>6.9</td>\n",
       "      <td>1011.0</td>\n",
       "      <td>9.9</td>\n",
       "      <td>482.7</td>\n",
       "      <td>Clear</td>\n",
       "      <td>1</td>\n",
       "    </tr>\n",
       "    <tr>\n",
       "      <th>4</th>\n",
       "      <td>133.0</td>\n",
       "      <td>8/21/2020</td>\n",
       "      <td>8/22/2020</td>\n",
       "      <td>4.000000</td>\n",
       "      <td>Human</td>\n",
       "      <td>44.035131</td>\n",
       "      <td>-103.036037</td>\n",
       "      <td>SDGPC</td>\n",
       "      <td>Grass</td>\n",
       "      <td>US-SD</td>\n",
       "      <td>...</td>\n",
       "      <td>33.3</td>\n",
       "      <td>47.4</td>\n",
       "      <td>59.35</td>\n",
       "      <td>0.07</td>\n",
       "      <td>20.1</td>\n",
       "      <td>1017.0</td>\n",
       "      <td>9.8</td>\n",
       "      <td>336.0</td>\n",
       "      <td>Rain, Partially cloudy</td>\n",
       "      <td>1</td>\n",
       "    </tr>\n",
       "  </tbody>\n",
       "</table>\n",
       "<p>5 rows × 25 columns</p>\n",
       "</div>"
      ],
      "text/plain": [
       "   OBJECTID  Date_Start Date_Finish       Acres FireCause        Lat  \\\n",
       "0     127.0  10/18/2020   3/10/2021  562.913504   Unknown  36.071140   \n",
       "1     128.0    5/1/2020   5/15/2020    0.151680   Unknown  39.556690   \n",
       "2     129.0    8/8/2020   8/20/2020    0.300000     Human  33.293840   \n",
       "3     130.0    5/8/2020   5/26/2020   44.300517     Human  35.875820   \n",
       "4     133.0   8/21/2020   8/22/2020    4.000000     Human  44.035131   \n",
       "\n",
       "         Long DispatchCenterID PredominantFuelGroup  State  ...  tempmin  \\\n",
       "0 -121.450500           CALPCC              Unknown  US-CA  ...     49.9   \n",
       "1 -119.558500            NVSFC                Grass  US-NV  ...     41.2   \n",
       "2 -110.450000            AZPHC          Grass-Shrub  US-AZ  ...      NaN   \n",
       "3 -115.204100            NVLIC          Grass-Shrub  US-NV  ...     58.6   \n",
       "4 -103.036037            SDGPC                Grass  US-SD  ...     33.3   \n",
       "\n",
       "   temp humidity precip  windspeed  pressure  visibility  solarradiation  \\\n",
       "0  58.8    67.29   0.00       12.7    1015.8         9.2           515.4   \n",
       "1  60.6    25.39   0.00       18.6    1015.5         9.9           510.1   \n",
       "2   NaN      NaN    NaN        NaN       NaN         NaN             NaN   \n",
       "3  76.9    11.12   0.00        6.9    1011.0         9.9           482.7   \n",
       "4  47.4    59.35   0.07       20.1    1017.0         9.8           336.0   \n",
       "\n",
       "               conditions  FireOccured  \n",
       "0                   Clear            1  \n",
       "1                   Clear            1  \n",
       "2                     NaN            1  \n",
       "3                   Clear            1  \n",
       "4  Rain, Partially cloudy            1  \n",
       "\n",
       "[5 rows x 25 columns]"
      ]
     },
     "execution_count": 2,
     "metadata": {},
     "output_type": "execute_result"
    }
   ],
   "source": [
    "wildfires = pd.read_csv(r'./data/df_Cleaned.csv')\n",
    "wildfires.head()"
   ]
  },
  {
   "cell_type": "code",
   "execution_count": 3,
   "metadata": {},
   "outputs": [
    {
     "name": "stdout",
     "output_type": "stream",
     "text": [
      "<class 'pandas.core.frame.DataFrame'>\n",
      "RangeIndex: 21404 entries, 0 to 21403\n",
      "Data columns (total 25 columns):\n",
      " #   Column                Non-Null Count  Dtype  \n",
      "---  ------                --------------  -----  \n",
      " 0   OBJECTID              7125 non-null   float64\n",
      " 1   Date_Start            21404 non-null  object \n",
      " 2   Date_Finish           7125 non-null   object \n",
      " 3   Acres                 7125 non-null   float64\n",
      " 4   FireCause             7125 non-null   object \n",
      " 5   Lat                   21404 non-null  float64\n",
      " 6   Long                  21404 non-null  float64\n",
      " 7   DispatchCenterID      7122 non-null   object \n",
      " 8   PredominantFuelGroup  7125 non-null   object \n",
      " 9   State                 21404 non-null  object \n",
      " 10  Fire_Duration         6056 non-null   float64\n",
      " 11  Fire_Duration_Group   6056 non-null   object \n",
      " 12  Address               21404 non-null  object \n",
      " 13  URLAddress            21404 non-null  object \n",
      " 14  tempmax               20874 non-null  float64\n",
      " 15  tempmin               20874 non-null  float64\n",
      " 16  temp                  20874 non-null  float64\n",
      " 17  humidity              20843 non-null  float64\n",
      " 18  precip                20867 non-null  float64\n",
      " 19  windspeed             20872 non-null  float64\n",
      " 20  pressure              19615 non-null  float64\n",
      " 21  visibility            20715 non-null  float64\n",
      " 22  solarradiation        20452 non-null  float64\n",
      " 23  conditions            20874 non-null  object \n",
      " 24  FireOccured           21404 non-null  int64  \n",
      "dtypes: float64(14), int64(1), object(10)\n",
      "memory usage: 4.1+ MB\n"
     ]
    }
   ],
   "source": [
    "wildfires.info()"
   ]
  },
  {
   "cell_type": "code",
   "execution_count": 4,
   "metadata": {},
   "outputs": [
    {
     "name": "stdout",
     "output_type": "stream",
     "text": [
      "<class 'pandas.core.frame.DataFrame'>\n",
      "RangeIndex: 21404 entries, 0 to 21403\n",
      "Data columns (total 4 columns):\n",
      " #   Column       Non-Null Count  Dtype  \n",
      "---  ------       --------------  -----  \n",
      " 0   temp         20874 non-null  float64\n",
      " 1   humidity     20843 non-null  float64\n",
      " 2   conditions   20874 non-null  object \n",
      " 3   FireOccured  21404 non-null  int64  \n",
      "dtypes: float64(2), int64(1), object(1)\n",
      "memory usage: 669.0+ KB\n"
     ]
    }
   ],
   "source": [
    "''' Subset of wildfires for input and output variables '''\n",
    "wf_sub = wildfires.filter(['temp', 'humidity', 'conditions', 'FireOccured'], axis=1)\n",
    "wf_sub.info()"
   ]
  },
  {
   "cell_type": "markdown",
   "metadata": {},
   "source": [
    "### CART Model for Predicting Wildfires w/o Humidity as a Predictor Variable"
   ]
  },
  {
   "cell_type": "code",
   "execution_count": 5,
   "metadata": {},
   "outputs": [],
   "source": [
    "''' Output variable and names '''\n",
    "y = wf_sub[['FireOccured']]\n",
    "y_names = [\"yes\", \"no\"]\n",
    "\n",
    "''' Fill missing temperature values with the mean '''\n",
    "wf_sub['temp'] = wf_sub['temp'].fillna(value = wf_sub['temp'].mean())\n",
    "\n",
    "''' Converting categorical variables to dummy variable form '''\n",
    "con_dum = pd.get_dummies(wf_sub['conditions'])\n",
    "\n",
    "''' Input variables '''\n",
    "X = pd.concat((wf_sub[['temp']], con_dum), axis=1)\n",
    "X_names = [\"temp\", \"Clear\", \"Rain, Partially cloudy\", \"Partially cloudy\", \"Overcast\", \"Rain\", \"Rain, Overcast\", \n",
    "           \"Snow, Partially cloudy\", \"Snow, Overcast\", \"Snow\"]"
   ]
  },
  {
   "cell_type": "code",
   "execution_count": 6,
   "metadata": {},
   "outputs": [],
   "source": [
    "''' Split the data into training and test sets '''\n",
    "from sklearn.model_selection import train_test_split as tts\n",
    "X_train, X_test, y_train, y_test = tts(X, y, test_size=0.3, random_state=42)"
   ]
  },
  {
   "cell_type": "code",
   "execution_count": 7,
   "metadata": {},
   "outputs": [],
   "source": [
    "''' Run CART algortihm '''\n",
    "fire_cart = DecisionTreeClassifier(criterion=\"gini\", max_leaf_nodes=10).fit(X_train, y_train)"
   ]
  },
  {
   "cell_type": "code",
   "execution_count": 8,
   "metadata": {},
   "outputs": [],
   "source": [
    "''' Obtain tree structure '''\n",
    "export_graphviz(fire_cart, out_file=\"./data/fire_cart.dot\", feature_names=X_names, class_names=y_names)"
   ]
  },
  {
   "cell_type": "code",
   "execution_count": 25,
   "metadata": {},
   "outputs": [
    {
     "data": {
      "text/plain": [
       "DecisionTreeClassifier(class_weight=None, criterion='gini', max_depth=None,\n",
       "                       max_features=None, max_leaf_nodes=10,\n",
       "                       min_impurity_decrease=0.0, min_impurity_split=None,\n",
       "                       min_samples_leaf=1, min_samples_split=2,\n",
       "                       min_weight_fraction_leaf=0.0, presort=False,\n",
       "                       random_state=None, splitter='best')"
      ]
     },
     "execution_count": 25,
     "metadata": {},
     "output_type": "execute_result"
    }
   ],
   "source": [
    "''' View Model '''\n",
    "fire_cart"
   ]
  },
  {
   "cell_type": "markdown",
   "metadata": {},
   "source": [
    "### CART Model for Predicting Wildfires w Humidity as a Predictor Variable"
   ]
  },
  {
   "cell_type": "code",
   "execution_count": 10,
   "metadata": {},
   "outputs": [],
   "source": [
    "''' Fill missing humidity values with the mean '''\n",
    "wf_sub['humidity'] = wf_sub['humidity'].fillna(value = wf_sub['humidity'].mean())\n",
    "\n",
    "''' Input variables '''\n",
    "X2 = pd.concat((wf_sub[['temp', 'humidity']], con_dum), axis=1)\n",
    "X2_names = [\"temp\", \"humidity\", \"Clear\", \"Rain, Partially cloudy\", \"Partially cloudy\", \"Overcast\", \"Rain\", \n",
    "           \"Rain, Overcast\", \"Snow, Partially cloudy\", \"Snow, Overcast\", \"Snow\"]"
   ]
  },
  {
   "cell_type": "code",
   "execution_count": 11,
   "metadata": {},
   "outputs": [],
   "source": [
    "''' Split the data into training and test sets '''\n",
    "from sklearn.model_selection import train_test_split as tts\n",
    "X2_train, X2_test, y2_train, y2_test = tts(X2, y, test_size=0.3, random_state=42)"
   ]
  },
  {
   "cell_type": "code",
   "execution_count": 12,
   "metadata": {},
   "outputs": [],
   "source": [
    "''' Run CART algortihm '''\n",
    "fire_cart2 = DecisionTreeClassifier(criterion=\"gini\", max_leaf_nodes=10).fit(X2_train, y2_train)"
   ]
  },
  {
   "cell_type": "code",
   "execution_count": 13,
   "metadata": {},
   "outputs": [],
   "source": [
    "''' Obtain tree structure '''\n",
    "export_graphviz(fire_cart, out_file=\"./data/fire_cart2.dot\", feature_names=None, class_names=y_names)"
   ]
  },
  {
   "cell_type": "code",
   "execution_count": 26,
   "metadata": {},
   "outputs": [
    {
     "data": {
      "text/plain": [
       "DecisionTreeClassifier(class_weight=None, criterion='gini', max_depth=None,\n",
       "                       max_features=None, max_leaf_nodes=10,\n",
       "                       min_impurity_decrease=0.0, min_impurity_split=None,\n",
       "                       min_samples_leaf=1, min_samples_split=2,\n",
       "                       min_weight_fraction_leaf=0.0, presort=False,\n",
       "                       random_state=None, splitter='best')"
      ]
     },
     "execution_count": 26,
     "metadata": {},
     "output_type": "execute_result"
    }
   ],
   "source": [
    "''' View Model '''\n",
    "fire_cart2"
   ]
  },
  {
   "cell_type": "markdown",
   "metadata": {},
   "source": [
    "### C5.0 Decision Tree w/o Humidity as Predictor Variable"
   ]
  },
  {
   "cell_type": "code",
   "execution_count": 35,
   "metadata": {},
   "outputs": [
    {
     "data": {
      "text/plain": [
       "DecisionTreeClassifier(class_weight=None, criterion='entropy', max_depth=None,\n",
       "                       max_features=None, max_leaf_nodes=10,\n",
       "                       min_impurity_decrease=0.0, min_impurity_split=None,\n",
       "                       min_samples_leaf=1, min_samples_split=2,\n",
       "                       min_weight_fraction_leaf=0.0, presort=False,\n",
       "                       random_state=None, splitter='best')"
      ]
     },
     "execution_count": 35,
     "metadata": {},
     "output_type": "execute_result"
    }
   ],
   "source": [
    "''' Build C5.0 Classifier '''\n",
    "c50 = DecisionTreeClassifier(criterion=\"entropy\", max_leaf_nodes=10).fit(X_train, y_train)\n",
    "\n",
    "''' Obtain tree structure '''\n",
    "export_graphviz(c50, out_file=\"./data/c50_n10.dot\", feature_names=X_names, class_names=y_names)\n",
    "\n",
    "''' Print predicted values '''\n",
    "# c50.predict(X_train)\n",
    "\n",
    "''' View Model '''\n",
    "c50"
   ]
  },
  {
   "cell_type": "markdown",
   "metadata": {},
   "source": [
    "### C5.0 Decision Tree w/ Humidity as Predictor Variable"
   ]
  },
  {
   "cell_type": "code",
   "execution_count": 36,
   "metadata": {},
   "outputs": [
    {
     "data": {
      "text/plain": [
       "DecisionTreeClassifier(class_weight=None, criterion='entropy', max_depth=None,\n",
       "                       max_features=None, max_leaf_nodes=10,\n",
       "                       min_impurity_decrease=0.0, min_impurity_split=None,\n",
       "                       min_samples_leaf=1, min_samples_split=2,\n",
       "                       min_weight_fraction_leaf=0.0, presort=False,\n",
       "                       random_state=None, splitter='best')"
      ]
     },
     "execution_count": 36,
     "metadata": {},
     "output_type": "execute_result"
    }
   ],
   "source": [
    "''' Build C5.0 Classifier '''\n",
    "c50_h = DecisionTreeClassifier(criterion=\"entropy\", max_leaf_nodes=10).fit(X2_train, y2_train)\n",
    "\n",
    "''' Obtain tree structure '''\n",
    "export_graphviz(c50_h, out_file=\"./data/c50_n10_h.dot\", feature_names=None, class_names=y_names)\n",
    "\n",
    "''' Print predicted values '''\n",
    "# c50.predict(X2_train)\n",
    "\n",
    "''' View Model '''\n",
    "c50_h"
   ]
  },
  {
   "cell_type": "code",
   "execution_count": 17,
   "metadata": {},
   "outputs": [
    {
     "data": {
      "text/plain": [
       "array([[9322,  661],\n",
       "       [2909, 2090]], dtype=int64)"
      ]
     },
     "execution_count": 17,
     "metadata": {},
     "output_type": "execute_result"
    }
   ],
   "source": [
    "''' Create confusion matrix '''\n",
    "from sklearn.metrics import confusion_matrix\n",
    "\n",
    "conmat = confusion_matrix(y2_train, c50_h.predict(X2_train))\n",
    "conmat"
   ]
  },
  {
   "cell_type": "markdown",
   "metadata": {},
   "source": [
    "### C5.0 Decision Tree Model Evaluation "
   ]
  },
  {
   "cell_type": "code",
   "execution_count": 33,
   "metadata": {},
   "outputs": [],
   "source": [
    "''' Model Evaluation w'''\n",
    "true_pos = conmat[0][0] # True positives\n",
    "true_neg = conmat[1][1] # False negatives\n",
    "f_pos = conmat[0][1] # False positives\n",
    "f_neg = conmat[1][0] # False negatives\n",
    "\n",
    "precision = true_pos / (true_pos + f_pos)\n",
    "recall = f_pos / (f_pos + true_neg)\n",
    "sensitivity = true_pos / (true_pos + f_neg)\n",
    "specificity = true_neg / (true_neg + f_pos)\n",
    "\n",
    "f1 = 2 * (precision * recall) / (precision + recall)\n",
    "f2 = 5 * (precision * recall) / ((4 * precision) + recall)\n",
    "f05 = 1.25 * (precision * recall) / ((0.25 * precision) + recall)\n",
    "\n",
    "accuracy = (true_pos + true_neg) / sum([i + j for (i, j) in zip(conmat[0], conmat[1])])\n",
    "error = 1 - accuracy\n",
    "f_pos_rate = f_pos / (f_pos + true_neg)\n",
    "f_neg_rate = f_neg / (f_neg + true_pos)"
   ]
  },
  {
   "cell_type": "code",
   "execution_count": 34,
   "metadata": {},
   "outputs": [
    {
     "data": {
      "text/html": [
       "<div>\n",
       "<style scoped>\n",
       "    .dataframe tbody tr th:only-of-type {\n",
       "        vertical-align: middle;\n",
       "    }\n",
       "\n",
       "    .dataframe tbody tr th {\n",
       "        vertical-align: top;\n",
       "    }\n",
       "\n",
       "    .dataframe thead th {\n",
       "        text-align: right;\n",
       "    }\n",
       "</style>\n",
       "<table border=\"1\" class=\"dataframe\">\n",
       "  <thead>\n",
       "    <tr style=\"text-align: right;\">\n",
       "      <th></th>\n",
       "      <th>0</th>\n",
       "    </tr>\n",
       "  </thead>\n",
       "  <tbody>\n",
       "    <tr>\n",
       "      <th>Accuracy</th>\n",
       "      <td>0.762</td>\n",
       "    </tr>\n",
       "    <tr>\n",
       "      <th>Sensitivity</th>\n",
       "      <td>0.762</td>\n",
       "    </tr>\n",
       "    <tr>\n",
       "      <th>Specificity</th>\n",
       "      <td>0.760</td>\n",
       "    </tr>\n",
       "    <tr>\n",
       "      <th>F1-Measure</th>\n",
       "      <td>0.382</td>\n",
       "    </tr>\n",
       "  </tbody>\n",
       "</table>\n",
       "</div>"
      ],
      "text/plain": [
       "                 0\n",
       "Accuracy     0.762\n",
       "Sensitivity  0.762\n",
       "Specificity  0.760\n",
       "F1-Measure   0.382"
      ]
     },
     "execution_count": 34,
     "metadata": {},
     "output_type": "execute_result"
    }
   ],
   "source": [
    "''' Model Metrics '''\n",
    "c50_met = {\n",
    "    \"Accuracy\"    : [round(accuracy, 3)],\n",
    "    \"Sensitivity\" : [round(sensitivity, 3)],\n",
    "    \"Specificity\" : [round(specificity, 3)],\n",
    "    \"F1-Measure\"  : [round(f1, 3)]}\n",
    "c50met_df = pd.DataFrame(data = c50_met)\n",
    "c50met_df.T"
   ]
  },
  {
   "cell_type": "markdown",
   "metadata": {},
   "source": [
    "### CART Decision Tree Model Evaluation"
   ]
  },
  {
   "cell_type": "code",
   "execution_count": 20,
   "metadata": {},
   "outputs": [
    {
     "data": {
      "text/plain": [
       "array([[8904, 1079],\n",
       "       [2518, 2481]], dtype=int64)"
      ]
     },
     "execution_count": 20,
     "metadata": {},
     "output_type": "execute_result"
    }
   ],
   "source": [
    "cmat_cart = confusion_matrix(y2_train, fire_cart2.predict(X2_train))\n",
    "cmat_cart"
   ]
  },
  {
   "cell_type": "code",
   "execution_count": 31,
   "metadata": {},
   "outputs": [],
   "source": [
    "''' Model Evaluation w'''\n",
    "tp = cmat_cart[0][0] # True positives\n",
    "tn = cmat_cart[1][1] # False negatives\n",
    "fp = cmat_cart[0][1] # False positives\n",
    "fn = cmat_cart[1][0] # False negatives\n",
    "\n",
    "prec = tp / (tp + fp) # Precision\n",
    "reca = fp / (fp + tn)  # Recall\n",
    "sens = tp / (tp + fn) # Sensitivity\n",
    "spec = tn / (tn + fp) # Specificity\n",
    "\n",
    "f1 = 2 * (prec * reca) / (prec + reca)\n",
    "f2 = 5 * (prec * reca) / ((4 * prec) + reca)\n",
    "f05 = 1.25 * (prec * reca) / ((0.25 * prec) + reca)\n",
    "\n",
    "acc = (tp + tn) / sum([i + j for (i, j) in zip(cmat_cart[0], cmat_cart[1])])\n",
    "err = 1 - accuracy\n",
    "fp_rate = fp / (fp + tn)\n",
    "fn_rate = fn / (fn + tp)"
   ]
  },
  {
   "cell_type": "code",
   "execution_count": 32,
   "metadata": {},
   "outputs": [
    {
     "data": {
      "text/html": [
       "<div>\n",
       "<style scoped>\n",
       "    .dataframe tbody tr th:only-of-type {\n",
       "        vertical-align: middle;\n",
       "    }\n",
       "\n",
       "    .dataframe tbody tr th {\n",
       "        vertical-align: top;\n",
       "    }\n",
       "\n",
       "    .dataframe thead th {\n",
       "        text-align: right;\n",
       "    }\n",
       "</style>\n",
       "<table border=\"1\" class=\"dataframe\">\n",
       "  <thead>\n",
       "    <tr style=\"text-align: right;\">\n",
       "      <th></th>\n",
       "      <th>0</th>\n",
       "    </tr>\n",
       "  </thead>\n",
       "  <tbody>\n",
       "    <tr>\n",
       "      <th>Accuracy</th>\n",
       "      <td>0.760</td>\n",
       "    </tr>\n",
       "    <tr>\n",
       "      <th>Sensitivity</th>\n",
       "      <td>0.780</td>\n",
       "    </tr>\n",
       "    <tr>\n",
       "      <th>Specificity</th>\n",
       "      <td>0.697</td>\n",
       "    </tr>\n",
       "    <tr>\n",
       "      <th>F1-Measure</th>\n",
       "      <td>0.452</td>\n",
       "    </tr>\n",
       "  </tbody>\n",
       "</table>\n",
       "</div>"
      ],
      "text/plain": [
       "                 0\n",
       "Accuracy     0.760\n",
       "Sensitivity  0.780\n",
       "Specificity  0.697\n",
       "F1-Measure   0.452"
      ]
     },
     "execution_count": 32,
     "metadata": {},
     "output_type": "execute_result"
    }
   ],
   "source": [
    "''' Model Metrics '''\n",
    "cart_met = {\n",
    "    \"Accuracy\"    : [round(acc, 3)],\n",
    "    \"Sensitivity\" : [round(sens, 3)],\n",
    "    \"Specificity\" : [round(spec, 3)],\n",
    "    \"F1-Measure\"  : [round(f1, 3)]}\n",
    "cartmet_df = pd.DataFrame(data = cart_met)\n",
    "cartmet_df.T"
   ]
  },
  {
   "cell_type": "code",
   "execution_count": null,
   "metadata": {},
   "outputs": [],
   "source": []
  }
 ],
 "metadata": {
  "kernelspec": {
   "display_name": "Python 3.7.3 64-bit ('base': conda)",
   "language": "python",
   "name": "python37364bitbaseconda8b8387ecfd4547b0b305075350132ee9"
  },
  "language_info": {
   "codemirror_mode": {
    "name": "ipython",
    "version": 3
   },
   "file_extension": ".py",
   "mimetype": "text/x-python",
   "name": "python",
   "nbconvert_exporter": "python",
   "pygments_lexer": "ipython3",
   "version": "3.7.3"
  }
 },
 "nbformat": 4,
 "nbformat_minor": 4
}

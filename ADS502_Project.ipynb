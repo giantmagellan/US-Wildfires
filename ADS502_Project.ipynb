{
 "cells": [
  {
   "cell_type": "code",
   "execution_count": 36,
   "id": "a35d3b9f",
   "metadata": {},
   "outputs": [],
   "source": [
    "import numpy as np\n",
    "import pandas as pd\n",
    "import matplotlib as mpl\n",
    "import matplotlib.pyplot as plt\n",
    "import seaborn as sns"
   ]
  },
  {
   "cell_type": "code",
   "execution_count": 37,
   "id": "3b94347a",
   "metadata": {},
   "outputs": [],
   "source": [
    "wfigs_train=pd.read_csv(\"wfigs.csv\")"
   ]
  },
  {
   "cell_type": "code",
   "execution_count": 38,
   "id": "3cdcfe3d",
   "metadata": {},
   "outputs": [],
   "source": [
    "#checkinig for number of rows and columns"
   ]
  },
  {
   "cell_type": "code",
   "execution_count": 39,
   "id": "17fe09d0",
   "metadata": {},
   "outputs": [
    {
     "data": {
      "text/plain": [
       "(7125, 105)"
      ]
     },
     "execution_count": 39,
     "metadata": {},
     "output_type": "execute_result"
    }
   ],
   "source": [
    "wfigs_train.shape"
   ]
  },
  {
   "cell_type": "code",
   "execution_count": 34,
   "id": "d68984b5",
   "metadata": {},
   "outputs": [],
   "source": [
    "#checking for nulls"
   ]
  },
  {
   "cell_type": "code",
   "execution_count": 61,
   "id": "63acaab6",
   "metadata": {},
   "outputs": [
    {
     "data": {
      "text/plain": [
       "OBJECTID                         0\n",
       "poly_IncidentName              103\n",
       "poly_FeatureCategory             0\n",
       "poly_MapMethod                   5\n",
       "poly_GISAcres                 1698\n",
       "                              ... \n",
       "irwin_CreatedOnDateTime_dt       0\n",
       "GlobalID                         0\n",
       "SHAPE_Length                     0\n",
       "SHAPE_Area                       0\n",
       "index                            0\n",
       "Length: 106, dtype: int64"
      ]
     },
     "execution_count": 61,
     "metadata": {},
     "output_type": "execute_result"
    }
   ],
   "source": [
    "wfigs_train.isnull().sum()"
   ]
  },
  {
   "cell_type": "code",
   "execution_count": 40,
   "id": "a3fc3cf5",
   "metadata": {},
   "outputs": [],
   "source": [
    "#checking for columns headers (variable names)"
   ]
  },
  {
   "cell_type": "code",
   "execution_count": 51,
   "id": "6de5ddb6",
   "metadata": {},
   "outputs": [
    {
     "data": {
      "text/plain": [
       "Index(['OBJECTID', 'poly_IncidentName', 'poly_FeatureCategory',\n",
       "       'poly_MapMethod', 'poly_GISAcres', 'poly_CreateDate',\n",
       "       'poly_DateCurrent', 'poly_PolygonDateTime', 'poly_Acres_AutoCalc',\n",
       "       'poly_GlobalID',\n",
       "       ...\n",
       "       'irwin_StratDecisionPublishDate', 'irwin_GlobalID', 'irwin_Source',\n",
       "       'irwin_ArchivedOn', 'irwin_ModifiedOnDateTime_dt',\n",
       "       'irwin_CreatedOnDateTime_dt', 'GlobalID', 'SHAPE_Length', 'SHAPE_Area',\n",
       "       'index'],\n",
       "      dtype='object', length=106)"
      ]
     },
     "execution_count": 51,
     "metadata": {},
     "output_type": "execute_result"
    }
   ],
   "source": [
    "wfigs_train.columns"
   ]
  },
  {
   "cell_type": "code",
   "execution_count": 52,
   "id": "43a396b2",
   "metadata": {},
   "outputs": [
    {
     "data": {
      "text/html": [
       "<div>\n",
       "<style scoped>\n",
       "    .dataframe tbody tr th:only-of-type {\n",
       "        vertical-align: middle;\n",
       "    }\n",
       "\n",
       "    .dataframe tbody tr th {\n",
       "        vertical-align: top;\n",
       "    }\n",
       "\n",
       "    .dataframe thead th {\n",
       "        text-align: right;\n",
       "    }\n",
       "</style>\n",
       "<table border=\"1\" class=\"dataframe\">\n",
       "  <thead>\n",
       "    <tr style=\"text-align: right;\">\n",
       "      <th></th>\n",
       "      <th>OBJECTID</th>\n",
       "      <th>poly_IncidentName</th>\n",
       "      <th>poly_FeatureCategory</th>\n",
       "      <th>poly_MapMethod</th>\n",
       "      <th>poly_GISAcres</th>\n",
       "      <th>poly_CreateDate</th>\n",
       "      <th>poly_DateCurrent</th>\n",
       "      <th>poly_PolygonDateTime</th>\n",
       "      <th>poly_Acres_AutoCalc</th>\n",
       "      <th>poly_GlobalID</th>\n",
       "      <th>...</th>\n",
       "      <th>irwin_StratDecisionPublishDate</th>\n",
       "      <th>irwin_GlobalID</th>\n",
       "      <th>irwin_Source</th>\n",
       "      <th>irwin_ArchivedOn</th>\n",
       "      <th>irwin_ModifiedOnDateTime_dt</th>\n",
       "      <th>irwin_CreatedOnDateTime_dt</th>\n",
       "      <th>GlobalID</th>\n",
       "      <th>SHAPE_Length</th>\n",
       "      <th>SHAPE_Area</th>\n",
       "      <th>index</th>\n",
       "    </tr>\n",
       "  </thead>\n",
       "  <tbody>\n",
       "    <tr>\n",
       "      <th>0</th>\n",
       "      <td>127</td>\n",
       "      <td>Coleman</td>\n",
       "      <td>Wildfire Daily Fire Perimeter</td>\n",
       "      <td>Mixed Methods</td>\n",
       "      <td>562.913504</td>\n",
       "      <td>2021/05/04 22:50:38+00</td>\n",
       "      <td>2021/05/04 22:50:38+00</td>\n",
       "      <td>NaN</td>\n",
       "      <td>562.911767</td>\n",
       "      <td>{951569B8-EA6B-443B-8BF7-022AE1DFC937}</td>\n",
       "      <td>...</td>\n",
       "      <td>2020/10/20 14:14:11+00</td>\n",
       "      <td>NaN</td>\n",
       "      <td>IRWIN</td>\n",
       "      <td>NaN</td>\n",
       "      <td>2021/03/26 19:01:00+00</td>\n",
       "      <td>2020/10/18 20:02:59+00</td>\n",
       "      <td>{1E48F205-2208-4DBD-8A48-B739FDEACF9C}</td>\n",
       "      <td>0.120036</td>\n",
       "      <td>2.280140e-04</td>\n",
       "      <td>0</td>\n",
       "    </tr>\n",
       "    <tr>\n",
       "      <th>1</th>\n",
       "      <td>128</td>\n",
       "      <td>Patrick</td>\n",
       "      <td>Wildfire Daily Fire Perimeter</td>\n",
       "      <td>Mixed Methods</td>\n",
       "      <td>0.151680</td>\n",
       "      <td>2021/05/04 22:51:03+00</td>\n",
       "      <td>2021/05/04 22:51:03+00</td>\n",
       "      <td>NaN</td>\n",
       "      <td>0.151680</td>\n",
       "      <td>{08D5DE2B-51A0-420A-812F-35902565E93A}</td>\n",
       "      <td>...</td>\n",
       "      <td>NaN</td>\n",
       "      <td>NaN</td>\n",
       "      <td>IRWIN</td>\n",
       "      <td>NaN</td>\n",
       "      <td>2020/06/19 20:31:59+00</td>\n",
       "      <td>2020/05/01 22:15:24+00</td>\n",
       "      <td>{447213E7-190B-4E48-B60C-D0E492EFD576}</td>\n",
       "      <td>0.001121</td>\n",
       "      <td>6.430000e-08</td>\n",
       "      <td>1</td>\n",
       "    </tr>\n",
       "    <tr>\n",
       "      <th>2</th>\n",
       "      <td>129</td>\n",
       "      <td>Low Top</td>\n",
       "      <td>Wildfire Daily Fire Perimeter</td>\n",
       "      <td>Auto-generated</td>\n",
       "      <td>0.300000</td>\n",
       "      <td>2021/05/04 22:51:19+00</td>\n",
       "      <td>2021/05/04 22:51:19+00</td>\n",
       "      <td>2020/08/09 04:24:22+00</td>\n",
       "      <td>2.850691</td>\n",
       "      <td>{4BBFA91F-8692-4FC6-8917-1E7C2F2678EE}</td>\n",
       "      <td>...</td>\n",
       "      <td>NaN</td>\n",
       "      <td>NaN</td>\n",
       "      <td>IRWIN</td>\n",
       "      <td>NaN</td>\n",
       "      <td>2020/08/27 18:54:27+00</td>\n",
       "      <td>2020/08/08 23:47:45+00</td>\n",
       "      <td>{EC414CFA-9C17-478C-A07E-849E91501621}</td>\n",
       "      <td>0.004527</td>\n",
       "      <td>1.120000e-06</td>\n",
       "      <td>2</td>\n",
       "    </tr>\n",
       "    <tr>\n",
       "      <th>3</th>\n",
       "      <td>130</td>\n",
       "      <td>Sloan 2</td>\n",
       "      <td>Wildfire Daily Fire Perimeter</td>\n",
       "      <td>Mixed Methods</td>\n",
       "      <td>44.300517</td>\n",
       "      <td>2021/05/04 22:50:52+00</td>\n",
       "      <td>2021/05/04 22:50:52+00</td>\n",
       "      <td>NaN</td>\n",
       "      <td>44.300352</td>\n",
       "      <td>{7AE9D007-FBA4-440B-972B-69791E156BE8}</td>\n",
       "      <td>...</td>\n",
       "      <td>NaN</td>\n",
       "      <td>NaN</td>\n",
       "      <td>IRWIN</td>\n",
       "      <td>NaN</td>\n",
       "      <td>2021/01/27 20:56:40+00</td>\n",
       "      <td>2020/05/08 02:54:29+00</td>\n",
       "      <td>{C882C4C8-1420-4D68-9012-B24EDA77D6B7}</td>\n",
       "      <td>0.032394</td>\n",
       "      <td>1.790000e-05</td>\n",
       "      <td>3</td>\n",
       "    </tr>\n",
       "    <tr>\n",
       "      <th>4</th>\n",
       "      <td>133</td>\n",
       "      <td>Bloody nose</td>\n",
       "      <td>Wildfire Daily Fire Perimeter</td>\n",
       "      <td>Mixed Methods</td>\n",
       "      <td>NaN</td>\n",
       "      <td>2021/05/04 22:50:58+00</td>\n",
       "      <td>2021/05/04 22:50:58+00</td>\n",
       "      <td>NaN</td>\n",
       "      <td>6.211367</td>\n",
       "      <td>{A3BBB888-93FB-405C-A449-EF675D72C65E}</td>\n",
       "      <td>...</td>\n",
       "      <td>NaN</td>\n",
       "      <td>NaN</td>\n",
       "      <td>IRWIN</td>\n",
       "      <td>NaN</td>\n",
       "      <td>2021/01/13 18:16:55+00</td>\n",
       "      <td>2020/08/21 20:21:44+00</td>\n",
       "      <td>{01476F18-2DC0-473C-BF80-58544FA68344}</td>\n",
       "      <td>0.008458</td>\n",
       "      <td>2.780000e-06</td>\n",
       "      <td>4</td>\n",
       "    </tr>\n",
       "  </tbody>\n",
       "</table>\n",
       "<p>5 rows × 106 columns</p>\n",
       "</div>"
      ],
      "text/plain": [
       "   OBJECTID poly_IncidentName           poly_FeatureCategory  poly_MapMethod  \\\n",
       "0       127           Coleman  Wildfire Daily Fire Perimeter   Mixed Methods   \n",
       "1       128          Patrick   Wildfire Daily Fire Perimeter   Mixed Methods   \n",
       "2       129           Low Top  Wildfire Daily Fire Perimeter  Auto-generated   \n",
       "3       130           Sloan 2  Wildfire Daily Fire Perimeter   Mixed Methods   \n",
       "4       133       Bloody nose  Wildfire Daily Fire Perimeter   Mixed Methods   \n",
       "\n",
       "   poly_GISAcres         poly_CreateDate        poly_DateCurrent  \\\n",
       "0     562.913504  2021/05/04 22:50:38+00  2021/05/04 22:50:38+00   \n",
       "1       0.151680  2021/05/04 22:51:03+00  2021/05/04 22:51:03+00   \n",
       "2       0.300000  2021/05/04 22:51:19+00  2021/05/04 22:51:19+00   \n",
       "3      44.300517  2021/05/04 22:50:52+00  2021/05/04 22:50:52+00   \n",
       "4            NaN  2021/05/04 22:50:58+00  2021/05/04 22:50:58+00   \n",
       "\n",
       "     poly_PolygonDateTime  poly_Acres_AutoCalc  \\\n",
       "0                     NaN           562.911767   \n",
       "1                     NaN             0.151680   \n",
       "2  2020/08/09 04:24:22+00             2.850691   \n",
       "3                     NaN            44.300352   \n",
       "4                     NaN             6.211367   \n",
       "\n",
       "                            poly_GlobalID  ... irwin_StratDecisionPublishDate  \\\n",
       "0  {951569B8-EA6B-443B-8BF7-022AE1DFC937}  ...         2020/10/20 14:14:11+00   \n",
       "1  {08D5DE2B-51A0-420A-812F-35902565E93A}  ...                            NaN   \n",
       "2  {4BBFA91F-8692-4FC6-8917-1E7C2F2678EE}  ...                            NaN   \n",
       "3  {7AE9D007-FBA4-440B-972B-69791E156BE8}  ...                            NaN   \n",
       "4  {A3BBB888-93FB-405C-A449-EF675D72C65E}  ...                            NaN   \n",
       "\n",
       "  irwin_GlobalID irwin_Source  irwin_ArchivedOn irwin_ModifiedOnDateTime_dt  \\\n",
       "0            NaN        IRWIN               NaN      2021/03/26 19:01:00+00   \n",
       "1            NaN        IRWIN               NaN      2020/06/19 20:31:59+00   \n",
       "2            NaN        IRWIN               NaN      2020/08/27 18:54:27+00   \n",
       "3            NaN        IRWIN               NaN      2021/01/27 20:56:40+00   \n",
       "4            NaN        IRWIN               NaN      2021/01/13 18:16:55+00   \n",
       "\n",
       "  irwin_CreatedOnDateTime_dt                                GlobalID  \\\n",
       "0     2020/10/18 20:02:59+00  {1E48F205-2208-4DBD-8A48-B739FDEACF9C}   \n",
       "1     2020/05/01 22:15:24+00  {447213E7-190B-4E48-B60C-D0E492EFD576}   \n",
       "2     2020/08/08 23:47:45+00  {EC414CFA-9C17-478C-A07E-849E91501621}   \n",
       "3     2020/05/08 02:54:29+00  {C882C4C8-1420-4D68-9012-B24EDA77D6B7}   \n",
       "4     2020/08/21 20:21:44+00  {01476F18-2DC0-473C-BF80-58544FA68344}   \n",
       "\n",
       "   SHAPE_Length    SHAPE_Area  index  \n",
       "0      0.120036  2.280140e-04      0  \n",
       "1      0.001121  6.430000e-08      1  \n",
       "2      0.004527  1.120000e-06      2  \n",
       "3      0.032394  1.790000e-05      3  \n",
       "4      0.008458  2.780000e-06      4  \n",
       "\n",
       "[5 rows x 106 columns]"
      ]
     },
     "execution_count": 52,
     "metadata": {},
     "output_type": "execute_result"
    }
   ],
   "source": [
    "wfigs_train.head()"
   ]
  },
  {
   "cell_type": "code",
   "execution_count": 53,
   "id": "97f1670f",
   "metadata": {},
   "outputs": [],
   "source": [
    "wfigs_train_final = wfigs_train[[\"OBJECTID\",\"poly_CreateDate\",\"poly_GISAcres\",\"irwin_FireCause\",\"irwin_GACC\",\"irwin_InitialLatitude\",\"irwin_InitialLongitude\",\"irwin_POODispatchCenterID\",\"irwin_POOState\",\"irwin_PredominantFuelGroup\"]]"
   ]
  },
  {
   "cell_type": "code",
   "execution_count": 54,
   "id": "06f09c0a",
   "metadata": {},
   "outputs": [
    {
     "name": "stdout",
     "output_type": "stream",
     "text": [
      "OBJECTID                  7925.527579\n",
      "poly_GISAcres             1979.660336\n",
      "irwin_InitialLatitude       40.865592\n",
      "irwin_InitialLongitude    -109.575179\n",
      "dtype: float64\n"
     ]
    },
    {
     "data": {
      "text/plain": [
       "(4,)"
      ]
     },
     "execution_count": 54,
     "metadata": {},
     "output_type": "execute_result"
    }
   ],
   "source": [
    "column_means = wfigs_train_final.mean()\n",
    "print(column_means)\n",
    "column_means.shape"
   ]
  },
  {
   "cell_type": "code",
   "execution_count": 55,
   "id": "c264f8b9",
   "metadata": {},
   "outputs": [],
   "source": [
    "wfigs_train_final = wfigs_train_final.fillna(column_means)"
   ]
  },
  {
   "cell_type": "code",
   "execution_count": 56,
   "id": "47b1e245",
   "metadata": {},
   "outputs": [
    {
     "data": {
      "text/html": [
       "<div>\n",
       "<style scoped>\n",
       "    .dataframe tbody tr th:only-of-type {\n",
       "        vertical-align: middle;\n",
       "    }\n",
       "\n",
       "    .dataframe tbody tr th {\n",
       "        vertical-align: top;\n",
       "    }\n",
       "\n",
       "    .dataframe thead th {\n",
       "        text-align: right;\n",
       "    }\n",
       "</style>\n",
       "<table border=\"1\" class=\"dataframe\">\n",
       "  <thead>\n",
       "    <tr style=\"text-align: right;\">\n",
       "      <th></th>\n",
       "      <th>OBJECTID</th>\n",
       "      <th>poly_CreateDate</th>\n",
       "      <th>poly_GISAcres</th>\n",
       "      <th>irwin_FireCause</th>\n",
       "      <th>irwin_GACC</th>\n",
       "      <th>irwin_InitialLatitude</th>\n",
       "      <th>irwin_InitialLongitude</th>\n",
       "      <th>irwin_POODispatchCenterID</th>\n",
       "      <th>irwin_POOState</th>\n",
       "      <th>irwin_PredominantFuelGroup</th>\n",
       "    </tr>\n",
       "  </thead>\n",
       "  <tbody>\n",
       "    <tr>\n",
       "      <th>0</th>\n",
       "      <td>127</td>\n",
       "      <td>2021/05/04 22:50:38+00</td>\n",
       "      <td>562.913504</td>\n",
       "      <td>Unknown</td>\n",
       "      <td>OSCC</td>\n",
       "      <td>36.071140</td>\n",
       "      <td>-121.450500</td>\n",
       "      <td>CALPCC</td>\n",
       "      <td>US-CA</td>\n",
       "      <td>NaN</td>\n",
       "    </tr>\n",
       "    <tr>\n",
       "      <th>1</th>\n",
       "      <td>128</td>\n",
       "      <td>2021/05/04 22:51:03+00</td>\n",
       "      <td>0.151680</td>\n",
       "      <td>Unknown</td>\n",
       "      <td>GBCC</td>\n",
       "      <td>39.556690</td>\n",
       "      <td>-119.558500</td>\n",
       "      <td>NVSFC</td>\n",
       "      <td>US-NV</td>\n",
       "      <td>Grass</td>\n",
       "    </tr>\n",
       "    <tr>\n",
       "      <th>2</th>\n",
       "      <td>129</td>\n",
       "      <td>2021/05/04 22:51:19+00</td>\n",
       "      <td>0.300000</td>\n",
       "      <td>Human</td>\n",
       "      <td>SWCC</td>\n",
       "      <td>33.293840</td>\n",
       "      <td>-110.450000</td>\n",
       "      <td>AZPHC</td>\n",
       "      <td>US-AZ</td>\n",
       "      <td>Grass-Shrub</td>\n",
       "    </tr>\n",
       "    <tr>\n",
       "      <th>3</th>\n",
       "      <td>130</td>\n",
       "      <td>2021/05/04 22:50:52+00</td>\n",
       "      <td>44.300517</td>\n",
       "      <td>Human</td>\n",
       "      <td>GBCC</td>\n",
       "      <td>35.875820</td>\n",
       "      <td>-115.204100</td>\n",
       "      <td>NVLIC</td>\n",
       "      <td>US-NV</td>\n",
       "      <td>Grass-Shrub</td>\n",
       "    </tr>\n",
       "    <tr>\n",
       "      <th>4</th>\n",
       "      <td>133</td>\n",
       "      <td>2021/05/04 22:50:58+00</td>\n",
       "      <td>1979.660336</td>\n",
       "      <td>Human</td>\n",
       "      <td>RMCC</td>\n",
       "      <td>40.865592</td>\n",
       "      <td>-109.575179</td>\n",
       "      <td>SDGPC</td>\n",
       "      <td>US-SD</td>\n",
       "      <td>Grass</td>\n",
       "    </tr>\n",
       "  </tbody>\n",
       "</table>\n",
       "</div>"
      ],
      "text/plain": [
       "   OBJECTID         poly_CreateDate  poly_GISAcres irwin_FireCause irwin_GACC  \\\n",
       "0       127  2021/05/04 22:50:38+00     562.913504         Unknown       OSCC   \n",
       "1       128  2021/05/04 22:51:03+00       0.151680         Unknown       GBCC   \n",
       "2       129  2021/05/04 22:51:19+00       0.300000           Human       SWCC   \n",
       "3       130  2021/05/04 22:50:52+00      44.300517           Human       GBCC   \n",
       "4       133  2021/05/04 22:50:58+00    1979.660336           Human       RMCC   \n",
       "\n",
       "   irwin_InitialLatitude  irwin_InitialLongitude irwin_POODispatchCenterID  \\\n",
       "0              36.071140             -121.450500                    CALPCC   \n",
       "1              39.556690             -119.558500                     NVSFC   \n",
       "2              33.293840             -110.450000                     AZPHC   \n",
       "3              35.875820             -115.204100                     NVLIC   \n",
       "4              40.865592             -109.575179                     SDGPC   \n",
       "\n",
       "  irwin_POOState irwin_PredominantFuelGroup  \n",
       "0          US-CA                        NaN  \n",
       "1          US-NV                      Grass  \n",
       "2          US-AZ                Grass-Shrub  \n",
       "3          US-NV                Grass-Shrub  \n",
       "4          US-SD                      Grass  "
      ]
     },
     "execution_count": 56,
     "metadata": {},
     "output_type": "execute_result"
    }
   ],
   "source": [
    "wfigs_train_final.head()"
   ]
  },
  {
   "cell_type": "code",
   "execution_count": 57,
   "id": "d9f609b5",
   "metadata": {},
   "outputs": [],
   "source": [
    "#adding index field"
   ]
  },
  {
   "cell_type": "code",
   "execution_count": 59,
   "id": "a0f229ff",
   "metadata": {},
   "outputs": [],
   "source": [
    "wfigs_train_final ['index'] = pd.Series (range(0, 7125))"
   ]
  },
  {
   "cell_type": "code",
   "execution_count": 60,
   "id": "200e3077",
   "metadata": {},
   "outputs": [
    {
     "data": {
      "text/plain": [
       "<bound method NDFrame.head of       OBJECTID         poly_CreateDate  poly_GISAcres irwin_FireCause  \\\n",
       "0          127  2021/05/04 22:50:38+00     562.913504         Unknown   \n",
       "1          128  2021/05/04 22:51:03+00       0.151680         Unknown   \n",
       "2          129  2021/05/04 22:51:19+00       0.300000           Human   \n",
       "3          130  2021/05/04 22:50:52+00      44.300517           Human   \n",
       "4          133  2021/05/04 22:50:58+00    1979.660336           Human   \n",
       "...        ...                     ...            ...             ...   \n",
       "7120     12712  2021/07/18 23:43:23+00     191.735211         Natural   \n",
       "7121     12713  2021/07/21 17:37:14+00      38.700000             NaN   \n",
       "7122     12714  2021/07/21 16:46:57+00       2.811551         Natural   \n",
       "7123     12716  2021/07/20 00:58:02+00       0.100000         Natural   \n",
       "7124     12717  2021/07/21 18:09:58+00    1979.660336           Human   \n",
       "\n",
       "     irwin_GACC  irwin_InitialLatitude  irwin_InitialLongitude  \\\n",
       "0          OSCC              36.071140             -121.450500   \n",
       "1          GBCC              39.556690             -119.558500   \n",
       "2          SWCC              33.293840             -110.450000   \n",
       "3          GBCC              35.875820             -115.204100   \n",
       "4          RMCC              40.865592             -109.575179   \n",
       "...         ...                    ...                     ...   \n",
       "7120       NRCC              46.492160             -115.069300   \n",
       "7121       SWCC              40.865592             -109.575179   \n",
       "7122       GBCC              42.122970             -113.960700   \n",
       "7123       ONCC              41.108517             -119.463850   \n",
       "7124       EACC              40.865592             -109.575179   \n",
       "\n",
       "     irwin_POODispatchCenterID irwin_POOState irwin_PredominantFuelGroup  \\\n",
       "0                       CALPCC          US-CA                        NaN   \n",
       "1                        NVSFC          US-NV                      Grass   \n",
       "2                        AZPHC          US-AZ                Grass-Shrub   \n",
       "3                        NVLIC          US-NV                Grass-Shrub   \n",
       "4                        SDGPC          US-SD                      Grass   \n",
       "...                        ...            ...                        ...   \n",
       "7120                     IDGVC          US-ID                        NaN   \n",
       "7121                     AZWDC          US-AZ                     Timber   \n",
       "7122                     IDSCC          US-ID                      Brush   \n",
       "7123                    CASIFC          US-NV                Grass-Shrub   \n",
       "7124                    MNMNCC          US-MN                      Grass   \n",
       "\n",
       "      index  \n",
       "0         0  \n",
       "1         1  \n",
       "2         2  \n",
       "3         3  \n",
       "4         4  \n",
       "...     ...  \n",
       "7120   7120  \n",
       "7121   7121  \n",
       "7122   7122  \n",
       "7123   7123  \n",
       "7124   7124  \n",
       "\n",
       "[7125 rows x 11 columns]>"
      ]
     },
     "execution_count": 60,
     "metadata": {},
     "output_type": "execute_result"
    }
   ],
   "source": [
    "wfigs_train_final.head"
   ]
  },
  {
   "cell_type": "code",
   "execution_count": null,
   "id": "e977cc8b",
   "metadata": {},
   "outputs": [],
   "source": []
  },
  {
   "cell_type": "code",
   "execution_count": null,
   "id": "1e1e057c",
   "metadata": {},
   "outputs": [],
   "source": []
  }
 ],
 "metadata": {
  "kernelspec": {
   "display_name": "Python 3",
   "language": "python",
   "name": "python3"
  },
  "language_info": {
   "codemirror_mode": {
    "name": "ipython",
    "version": 3
   },
   "file_extension": ".py",
   "mimetype": "text/x-python",
   "name": "python",
   "nbconvert_exporter": "python",
   "pygments_lexer": "ipython3",
   "version": "3.8.8"
  }
 },
 "nbformat": 4,
 "nbformat_minor": 5
}

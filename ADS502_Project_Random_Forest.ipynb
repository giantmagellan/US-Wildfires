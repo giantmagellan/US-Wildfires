{
 "cells": [
  {
   "cell_type": "code",
   "execution_count": 1,
   "id": "5df70ef5",
   "metadata": {},
   "outputs": [],
   "source": [
    "import numpy as np\n",
    "import pandas as pd\n",
    "import matplotlib as mpl\n",
    "import matplotlib.pyplot as plt\n",
    "import seaborn as sns\n",
    "import statsmodels.tools.tools as stattools\n",
    "from sklearn.ensemble import RandomForestClassifier\n",
    "from sklearn.tree import DecisionTreeClassifier\n",
    "from sklearn.metrics import confusion_matrix\n"
   ]
  },
  {
   "cell_type": "code",
   "execution_count": 8,
   "id": "45815f9b",
   "metadata": {},
   "outputs": [],
   "source": [
    "wfigs_train=pd.read_csv(\"df_Cleaned.csv\")"
   ]
  },
  {
   "cell_type": "code",
   "execution_count": 3,
   "id": "55f7189a",
   "metadata": {},
   "outputs": [],
   "source": [
    "#checkinig for number of rows and columns"
   ]
  },
  {
   "cell_type": "code",
   "execution_count": 4,
   "id": "519d14a1",
   "metadata": {},
   "outputs": [
    {
     "data": {
      "text/plain": [
       "(21404, 25)"
      ]
     },
     "execution_count": 4,
     "metadata": {},
     "output_type": "execute_result"
    }
   ],
   "source": [
    "wfigs_train.shape"
   ]
  },
  {
   "cell_type": "code",
   "execution_count": 5,
   "id": "0527a1b4",
   "metadata": {},
   "outputs": [
    {
     "name": "stdout",
     "output_type": "stream",
     "text": [
      "OBJECTID          7925.527579\n",
      "Acres             1508.829283\n",
      "Lat                 39.596643\n",
      "Long               -96.850374\n",
      "Fire_Duration       14.470608\n",
      "tempmax             72.417840\n",
      "tempmin             51.446120\n",
      "temp                61.882653\n",
      "humidity            62.280424\n",
      "precip               0.114872\n",
      "windspeed           13.929935\n",
      "pressure          1015.128305\n",
      "visibility          10.120391\n",
      "solarradiation     336.916732\n",
      "FireOccured          0.332882\n",
      "dtype: float64\n"
     ]
    }
   ],
   "source": [
    "wfigs_train.head()\n",
    "wfigs_train.columns\n",
    "column_means = wfigs_train.mean()\n",
    "print(column_means)\n",
    "column_means.shape\n",
    "\n",
    "wfigs_train = wfigs_train.fillna(column_means)\n"
   ]
  },
  {
   "cell_type": "code",
   "execution_count": 6,
   "id": "7dc37464",
   "metadata": {},
   "outputs": [
    {
     "name": "stdout",
     "output_type": "stream",
     "text": [
      "            temp  Clear  Overcast  Partially cloudy  Rain  Rain, Overcast  \\\n",
      "0      58.800000      1         0                 0     0               0   \n",
      "1      60.600000      1         0                 0     0               0   \n",
      "2      61.882653      0         0                 0     0               0   \n",
      "3      76.900000      1         0                 0     0               0   \n",
      "4      47.400000      0         0                 0     0               0   \n",
      "...          ...    ...       ...               ...   ...             ...   \n",
      "21399  86.500000      1         0                 0     0               0   \n",
      "21400  54.300000      0         0                 0     0               0   \n",
      "21401  72.900000      0         0                 0     1               0   \n",
      "21402  47.300000      0         0                 0     0               0   \n",
      "21403  44.300000      1         0                 0     0               0   \n",
      "\n",
      "       Rain, Partially cloudy  Snow  Snow, Overcast  Snow, Partially cloudy  \\\n",
      "0                           0     0               0                       0   \n",
      "1                           0     0               0                       0   \n",
      "2                           0     0               0                       0   \n",
      "3                           0     0               0                       0   \n",
      "4                           1     0               0                       0   \n",
      "...                       ...   ...             ...                     ...   \n",
      "21399                       0     0               0                       0   \n",
      "21400                       1     0               0                       0   \n",
      "21401                       0     0               0                       0   \n",
      "21402                       1     0               0                       0   \n",
      "21403                       0     0               0                       0   \n",
      "\n",
      "       Human  Natural  Undetermined  Unknown  \n",
      "0          0        0             0        1  \n",
      "1          0        0             0        1  \n",
      "2          1        0             0        0  \n",
      "3          1        0             0        0  \n",
      "4          1        0             0        0  \n",
      "...      ...      ...           ...      ...  \n",
      "21399      0        0             0        0  \n",
      "21400      0        0             0        0  \n",
      "21401      0        0             0        0  \n",
      "21402      0        0             0        0  \n",
      "21403      0        0             0        0  \n",
      "\n",
      "[21404 rows x 14 columns]\n",
      "[[14279     0]\n",
      " [    0  7125]]\n"
     ]
    }
   ],
   "source": [
    "X = wfigs_train[['temp', 'conditions', 'FireCause']]\n",
    "mar_dummy = pd.get_dummies(X['conditions'])\n",
    "mar_dummy1 = pd.get_dummies(X['FireCause'])\n",
    "#print(mar_dummy)\n",
    "X = pd.concat((X[['temp']], mar_dummy,mar_dummy1), axis = 1)\n",
    "print(X)\n",
    "y = wfigs_train[[\"FireOccured\"]]\n",
    "y=y.astype('int')\n",
    "rfy = np.ravel(y)\n",
    "\n",
    "rf01 = RandomForestClassifier(n_estimators = 100).fit(X,rfy)\n",
    "predictions = rf01.http://localhost:8888/notebooks/ADS502_Project_Random_Forest.ipynb#predict(X)\n",
    "\n",
    "\n",
    "conf_mat = confusion_matrix(y, predictions)\n",
    "print(conf_mat)\n",
    "\n",
    "\n",
    "\n"
   ]
  },
  {
   "cell_type": "code",
   "execution_count": 7,
   "id": "f39268ce",
   "metadata": {},
   "outputs": [
    {
     "name": "stdout",
     "output_type": "stream",
     "text": [
      "0.9981346763663496 0.9972065088344159 0.005582693649685973 1.0 0.994417306350314 0.011103227738201884 0.006968613907604251 0.02730208367441419\n"
     ]
    }
   ],
   "source": [
    "TP =14279\n",
    "TN =7125\n",
    "FP =40\n",
    "FN =0\n",
    "precision =(TP)/(TP+FP)\n",
    "recall_score =(FP)/(FP+TN)\n",
    "sensitivity = TP/(TP+FN)\n",
    "specificity = TN/(TN+FP)\n",
    "f1_score=2*((precision*recall_score)/(precision+recall_score))\n",
    "f2_score=5*((precision*recall_score)/(4*precision+recall_score))\n",
    "f05_score=1.25*((precision*recall_score)/(0.25*precision+recall_score))\n",
    "accuracy_model  =(TP+TN)/(TP+TN+FP+FN)\n",
    "error_rate = 1-accuracy_model\n",
    "False_positive_rate =(FP)/(FP+TN)\n",
    "False_negative_rate =(FN)/(FN+TP)\n",
    "\n",
    "print(accuracy_model,precision,recall_score,sensitivity,specificity,f1_score,f2_score,f05_score)"
   ]
  },
  {
   "cell_type": "code",
   "execution_count": null,
   "id": "d9601f7c",
   "metadata": {},
   "outputs": [],
   "source": []
  }
 ],
 "metadata": {
  "kernelspec": {
   "display_name": "Python 3",
   "language": "python",
   "name": "python3"
  },
  "language_info": {
   "codemirror_mode": {
    "name": "ipython",
    "version": 3
   },
   "file_extension": ".py",
   "mimetype": "text/x-python",
   "name": "python",
   "nbconvert_exporter": "python",
   "pygments_lexer": "ipython3",
   "version": "3.8.8"
  }
 },
 "nbformat": 4,
 "nbformat_minor": 5
}
